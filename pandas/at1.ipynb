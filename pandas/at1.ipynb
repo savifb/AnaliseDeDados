import pandas as pd 
import os
dir_path = os.path.dirname(os.path.abspath(__file__))
file_path = os.path.join(dir_path, 'CadastroProdutos.csv')
vendas_df = pd.read_csv(file_path)

vendas_df